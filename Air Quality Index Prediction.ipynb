{
 "cells": [
  {
   "cell_type": "markdown",
   "id": "46834bb1-d703-4f25-82a1-e81990d2ec3a",
   "metadata": {},
   "source": [
    "# Air Quality Index Prediction Model"
   ]
  },
  {
   "cell_type": "markdown",
   "id": "9752277a-3122-4495-9fd0-98a4e9b79c84",
   "metadata": {},
   "source": [
    "### Overview of Problem Statement:\n",
    "AQI prediction involves developing a model that can accurately forecast the Air Quality Index (AQI) for a given location. This prediction is crucial for public health. So this prediction problem aims to provide accurate information about air quality conditions, enabling proactive measures to mitigate pollution and protect public health."
   ]
  },
  {
   "cell_type": "markdown",
   "id": "b1c99744-88c4-4c4c-8eac-0b921452290f",
   "metadata": {},
   "source": [
    "### Objective:\n",
    "To develop the best AQI prediction model using machine learning techniques."
   ]
  },
  {
   "cell_type": "markdown",
   "id": "62bc3bee-9a6d-4257-afff-d66d2c65d312",
   "metadata": {},
   "source": [
    "### Data Description:\n",
    "Source: https://www.kaggle.com/datasets/hasibalmuzdadid/global-air-pollution-dataset"
   ]
  },
  {
   "cell_type": "markdown",
   "id": "edee8222-64b4-4776-8c59-72f4add1ef33",
   "metadata": {},
   "source": [
    "Features: Country, City, AQI Value, AQI Category, CO AQI Value, CO AQI Category, Ozone AQI Value, Ozone AQI Category, NO2 AQI Value, NO2 AQI Category, PM2.5 AQI Value, PM2.5 AQI Category"
   ]
  },
  {
   "cell_type": "markdown",
   "id": "c5c91105-8407-4b2a-b7bb-0fd951d73c12",
   "metadata": {},
   "source": [
    "### Importing libraries"
   ]
  },
  {
   "cell_type": "code",
   "execution_count": 45,
   "id": "bd18bb61-159b-453f-a00c-24ecca23abb0",
   "metadata": {},
   "outputs": [],
   "source": [
    "import numpy as np\n",
    "import pandas as pd\n",
    "import matplotlib.pyplot as plt\n",
    "import seaborn as sns\n",
    "import plotly.express as px"
   ]
  },
  {
   "cell_type": "code",
   "execution_count": 46,
   "id": "1ad7bf3b-ffa7-4cb9-a9a8-6ddc0f58f2b7",
   "metadata": {},
   "outputs": [],
   "source": [
    "import warnings\n",
    "warnings.filterwarnings('ignore')"
   ]
  },
  {
   "cell_type": "markdown",
   "id": "d2eb47ee-8e6b-4526-bc79-5e7bf8c1413f",
   "metadata": {},
   "source": [
    "### Importing the dataset"
   ]
  },
  {
   "cell_type": "code",
   "execution_count": 47,
   "id": "89a198e6-96bf-4b45-85d9-549cfbcbbeb2",
   "metadata": {},
   "outputs": [
    {
     "data": {
      "text/html": [
       "<div>\n",
       "<style scoped>\n",
       "    .dataframe tbody tr th:only-of-type {\n",
       "        vertical-align: middle;\n",
       "    }\n",
       "\n",
       "    .dataframe tbody tr th {\n",
       "        vertical-align: top;\n",
       "    }\n",
       "\n",
       "    .dataframe thead th {\n",
       "        text-align: right;\n",
       "    }\n",
       "</style>\n",
       "<table border=\"1\" class=\"dataframe\">\n",
       "  <thead>\n",
       "    <tr style=\"text-align: right;\">\n",
       "      <th></th>\n",
       "      <th>Country</th>\n",
       "      <th>City</th>\n",
       "      <th>AQI Value</th>\n",
       "      <th>AQI Category</th>\n",
       "      <th>CO AQI Value</th>\n",
       "      <th>CO AQI Category</th>\n",
       "      <th>Ozone AQI Value</th>\n",
       "      <th>Ozone AQI Category</th>\n",
       "      <th>NO2 AQI Value</th>\n",
       "      <th>NO2 AQI Category</th>\n",
       "      <th>PM2.5 AQI Value</th>\n",
       "      <th>PM2.5 AQI Category</th>\n",
       "    </tr>\n",
       "  </thead>\n",
       "  <tbody>\n",
       "    <tr>\n",
       "      <th>0</th>\n",
       "      <td>Russian Federation</td>\n",
       "      <td>Praskoveya</td>\n",
       "      <td>51</td>\n",
       "      <td>Moderate</td>\n",
       "      <td>1</td>\n",
       "      <td>Good</td>\n",
       "      <td>36</td>\n",
       "      <td>Good</td>\n",
       "      <td>0</td>\n",
       "      <td>Good</td>\n",
       "      <td>51</td>\n",
       "      <td>Moderate</td>\n",
       "    </tr>\n",
       "    <tr>\n",
       "      <th>1</th>\n",
       "      <td>Brazil</td>\n",
       "      <td>Presidente Dutra</td>\n",
       "      <td>41</td>\n",
       "      <td>Good</td>\n",
       "      <td>1</td>\n",
       "      <td>Good</td>\n",
       "      <td>5</td>\n",
       "      <td>Good</td>\n",
       "      <td>1</td>\n",
       "      <td>Good</td>\n",
       "      <td>41</td>\n",
       "      <td>Good</td>\n",
       "    </tr>\n",
       "    <tr>\n",
       "      <th>2</th>\n",
       "      <td>Italy</td>\n",
       "      <td>Priolo Gargallo</td>\n",
       "      <td>66</td>\n",
       "      <td>Moderate</td>\n",
       "      <td>1</td>\n",
       "      <td>Good</td>\n",
       "      <td>39</td>\n",
       "      <td>Good</td>\n",
       "      <td>2</td>\n",
       "      <td>Good</td>\n",
       "      <td>66</td>\n",
       "      <td>Moderate</td>\n",
       "    </tr>\n",
       "    <tr>\n",
       "      <th>3</th>\n",
       "      <td>Poland</td>\n",
       "      <td>Przasnysz</td>\n",
       "      <td>34</td>\n",
       "      <td>Good</td>\n",
       "      <td>1</td>\n",
       "      <td>Good</td>\n",
       "      <td>34</td>\n",
       "      <td>Good</td>\n",
       "      <td>0</td>\n",
       "      <td>Good</td>\n",
       "      <td>20</td>\n",
       "      <td>Good</td>\n",
       "    </tr>\n",
       "    <tr>\n",
       "      <th>4</th>\n",
       "      <td>France</td>\n",
       "      <td>Punaauia</td>\n",
       "      <td>22</td>\n",
       "      <td>Good</td>\n",
       "      <td>0</td>\n",
       "      <td>Good</td>\n",
       "      <td>22</td>\n",
       "      <td>Good</td>\n",
       "      <td>0</td>\n",
       "      <td>Good</td>\n",
       "      <td>6</td>\n",
       "      <td>Good</td>\n",
       "    </tr>\n",
       "    <tr>\n",
       "      <th>...</th>\n",
       "      <td>...</td>\n",
       "      <td>...</td>\n",
       "      <td>...</td>\n",
       "      <td>...</td>\n",
       "      <td>...</td>\n",
       "      <td>...</td>\n",
       "      <td>...</td>\n",
       "      <td>...</td>\n",
       "      <td>...</td>\n",
       "      <td>...</td>\n",
       "      <td>...</td>\n",
       "      <td>...</td>\n",
       "    </tr>\n",
       "    <tr>\n",
       "      <th>23458</th>\n",
       "      <td>India</td>\n",
       "      <td>Gursahaiganj</td>\n",
       "      <td>184</td>\n",
       "      <td>Unhealthy</td>\n",
       "      <td>3</td>\n",
       "      <td>Good</td>\n",
       "      <td>154</td>\n",
       "      <td>Unhealthy</td>\n",
       "      <td>2</td>\n",
       "      <td>Good</td>\n",
       "      <td>184</td>\n",
       "      <td>Unhealthy</td>\n",
       "    </tr>\n",
       "    <tr>\n",
       "      <th>23459</th>\n",
       "      <td>France</td>\n",
       "      <td>Sceaux</td>\n",
       "      <td>50</td>\n",
       "      <td>Good</td>\n",
       "      <td>1</td>\n",
       "      <td>Good</td>\n",
       "      <td>20</td>\n",
       "      <td>Good</td>\n",
       "      <td>5</td>\n",
       "      <td>Good</td>\n",
       "      <td>50</td>\n",
       "      <td>Good</td>\n",
       "    </tr>\n",
       "    <tr>\n",
       "      <th>23460</th>\n",
       "      <td>India</td>\n",
       "      <td>Mormugao</td>\n",
       "      <td>50</td>\n",
       "      <td>Good</td>\n",
       "      <td>1</td>\n",
       "      <td>Good</td>\n",
       "      <td>22</td>\n",
       "      <td>Good</td>\n",
       "      <td>1</td>\n",
       "      <td>Good</td>\n",
       "      <td>50</td>\n",
       "      <td>Good</td>\n",
       "    </tr>\n",
       "    <tr>\n",
       "      <th>23461</th>\n",
       "      <td>United States of America</td>\n",
       "      <td>Westerville</td>\n",
       "      <td>71</td>\n",
       "      <td>Moderate</td>\n",
       "      <td>1</td>\n",
       "      <td>Good</td>\n",
       "      <td>44</td>\n",
       "      <td>Good</td>\n",
       "      <td>2</td>\n",
       "      <td>Good</td>\n",
       "      <td>71</td>\n",
       "      <td>Moderate</td>\n",
       "    </tr>\n",
       "    <tr>\n",
       "      <th>23462</th>\n",
       "      <td>Malaysia</td>\n",
       "      <td>Marang</td>\n",
       "      <td>70</td>\n",
       "      <td>Moderate</td>\n",
       "      <td>1</td>\n",
       "      <td>Good</td>\n",
       "      <td>38</td>\n",
       "      <td>Good</td>\n",
       "      <td>0</td>\n",
       "      <td>Good</td>\n",
       "      <td>70</td>\n",
       "      <td>Moderate</td>\n",
       "    </tr>\n",
       "  </tbody>\n",
       "</table>\n",
       "<p>23463 rows × 12 columns</p>\n",
       "</div>"
      ],
      "text/plain": [
       "                        Country              City  AQI Value AQI Category  \\\n",
       "0            Russian Federation        Praskoveya         51     Moderate   \n",
       "1                        Brazil  Presidente Dutra         41         Good   \n",
       "2                         Italy   Priolo Gargallo         66     Moderate   \n",
       "3                        Poland         Przasnysz         34         Good   \n",
       "4                        France          Punaauia         22         Good   \n",
       "...                         ...               ...        ...          ...   \n",
       "23458                     India      Gursahaiganj        184    Unhealthy   \n",
       "23459                    France            Sceaux         50         Good   \n",
       "23460                     India          Mormugao         50         Good   \n",
       "23461  United States of America       Westerville         71     Moderate   \n",
       "23462                  Malaysia            Marang         70     Moderate   \n",
       "\n",
       "       CO AQI Value CO AQI Category  Ozone AQI Value Ozone AQI Category  \\\n",
       "0                 1            Good               36               Good   \n",
       "1                 1            Good                5               Good   \n",
       "2                 1            Good               39               Good   \n",
       "3                 1            Good               34               Good   \n",
       "4                 0            Good               22               Good   \n",
       "...             ...             ...              ...                ...   \n",
       "23458             3            Good              154          Unhealthy   \n",
       "23459             1            Good               20               Good   \n",
       "23460             1            Good               22               Good   \n",
       "23461             1            Good               44               Good   \n",
       "23462             1            Good               38               Good   \n",
       "\n",
       "       NO2 AQI Value NO2 AQI Category  PM2.5 AQI Value PM2.5 AQI Category  \n",
       "0                  0             Good               51           Moderate  \n",
       "1                  1             Good               41               Good  \n",
       "2                  2             Good               66           Moderate  \n",
       "3                  0             Good               20               Good  \n",
       "4                  0             Good                6               Good  \n",
       "...              ...              ...              ...                ...  \n",
       "23458              2             Good              184          Unhealthy  \n",
       "23459              5             Good               50               Good  \n",
       "23460              1             Good               50               Good  \n",
       "23461              2             Good               71           Moderate  \n",
       "23462              0             Good               70           Moderate  \n",
       "\n",
       "[23463 rows x 12 columns]"
      ]
     },
     "execution_count": 47,
     "metadata": {},
     "output_type": "execute_result"
    }
   ],
   "source": [
    "df = pd.read_csv('Desktop/Entri/Internship/global air pollution dataset.csv')\n",
    "df"
   ]
  },
  {
   "cell_type": "markdown",
   "id": "3293aabf-47b3-4959-9887-36f4f9eb5826",
   "metadata": {},
   "source": [
    "### Data Exploration"
   ]
  },
  {
   "cell_type": "code",
   "execution_count": 48,
   "id": "ef3a08e8-a0ba-4d26-9ebb-4040c78e90a4",
   "metadata": {},
   "outputs": [
    {
     "name": "stdout",
     "output_type": "stream",
     "text": [
      "<class 'pandas.core.frame.DataFrame'>\n",
      "RangeIndex: 23463 entries, 0 to 23462\n",
      "Data columns (total 12 columns):\n",
      " #   Column              Non-Null Count  Dtype \n",
      "---  ------              --------------  ----- \n",
      " 0   Country             23036 non-null  object\n",
      " 1   City                23462 non-null  object\n",
      " 2   AQI Value           23463 non-null  int64 \n",
      " 3   AQI Category        23463 non-null  object\n",
      " 4   CO AQI Value        23463 non-null  int64 \n",
      " 5   CO AQI Category     23463 non-null  object\n",
      " 6   Ozone AQI Value     23463 non-null  int64 \n",
      " 7   Ozone AQI Category  23463 non-null  object\n",
      " 8   NO2 AQI Value       23463 non-null  int64 \n",
      " 9   NO2 AQI Category    23463 non-null  object\n",
      " 10  PM2.5 AQI Value     23463 non-null  int64 \n",
      " 11  PM2.5 AQI Category  23463 non-null  object\n",
      "dtypes: int64(5), object(7)\n",
      "memory usage: 2.1+ MB\n"
     ]
    }
   ],
   "source": [
    "# Display the column names, data types, non-null count and memory usage\n",
    "\n",
    "df.info()"
   ]
  },
  {
   "cell_type": "code",
   "execution_count": 49,
   "id": "acc707b8-d699-4805-964b-97be32b8b614",
   "metadata": {},
   "outputs": [
    {
     "data": {
      "text/html": [
       "<div>\n",
       "<style scoped>\n",
       "    .dataframe tbody tr th:only-of-type {\n",
       "        vertical-align: middle;\n",
       "    }\n",
       "\n",
       "    .dataframe tbody tr th {\n",
       "        vertical-align: top;\n",
       "    }\n",
       "\n",
       "    .dataframe thead th {\n",
       "        text-align: right;\n",
       "    }\n",
       "</style>\n",
       "<table border=\"1\" class=\"dataframe\">\n",
       "  <thead>\n",
       "    <tr style=\"text-align: right;\">\n",
       "      <th></th>\n",
       "      <th>AQI Value</th>\n",
       "      <th>CO AQI Value</th>\n",
       "      <th>Ozone AQI Value</th>\n",
       "      <th>NO2 AQI Value</th>\n",
       "      <th>PM2.5 AQI Value</th>\n",
       "    </tr>\n",
       "  </thead>\n",
       "  <tbody>\n",
       "    <tr>\n",
       "      <th>count</th>\n",
       "      <td>23463.000000</td>\n",
       "      <td>23463.000000</td>\n",
       "      <td>23463.000000</td>\n",
       "      <td>23463.000000</td>\n",
       "      <td>23463.000000</td>\n",
       "    </tr>\n",
       "    <tr>\n",
       "      <th>mean</th>\n",
       "      <td>72.010868</td>\n",
       "      <td>1.368367</td>\n",
       "      <td>35.193709</td>\n",
       "      <td>3.063334</td>\n",
       "      <td>68.519755</td>\n",
       "    </tr>\n",
       "    <tr>\n",
       "      <th>std</th>\n",
       "      <td>56.055220</td>\n",
       "      <td>1.832064</td>\n",
       "      <td>28.098723</td>\n",
       "      <td>5.254108</td>\n",
       "      <td>54.796443</td>\n",
       "    </tr>\n",
       "    <tr>\n",
       "      <th>min</th>\n",
       "      <td>6.000000</td>\n",
       "      <td>0.000000</td>\n",
       "      <td>0.000000</td>\n",
       "      <td>0.000000</td>\n",
       "      <td>0.000000</td>\n",
       "    </tr>\n",
       "    <tr>\n",
       "      <th>25%</th>\n",
       "      <td>39.000000</td>\n",
       "      <td>1.000000</td>\n",
       "      <td>21.000000</td>\n",
       "      <td>0.000000</td>\n",
       "      <td>35.000000</td>\n",
       "    </tr>\n",
       "    <tr>\n",
       "      <th>50%</th>\n",
       "      <td>55.000000</td>\n",
       "      <td>1.000000</td>\n",
       "      <td>31.000000</td>\n",
       "      <td>1.000000</td>\n",
       "      <td>54.000000</td>\n",
       "    </tr>\n",
       "    <tr>\n",
       "      <th>75%</th>\n",
       "      <td>79.000000</td>\n",
       "      <td>1.000000</td>\n",
       "      <td>40.000000</td>\n",
       "      <td>4.000000</td>\n",
       "      <td>79.000000</td>\n",
       "    </tr>\n",
       "    <tr>\n",
       "      <th>max</th>\n",
       "      <td>500.000000</td>\n",
       "      <td>133.000000</td>\n",
       "      <td>235.000000</td>\n",
       "      <td>91.000000</td>\n",
       "      <td>500.000000</td>\n",
       "    </tr>\n",
       "  </tbody>\n",
       "</table>\n",
       "</div>"
      ],
      "text/plain": [
       "          AQI Value  CO AQI Value  Ozone AQI Value  NO2 AQI Value  \\\n",
       "count  23463.000000  23463.000000     23463.000000   23463.000000   \n",
       "mean      72.010868      1.368367        35.193709       3.063334   \n",
       "std       56.055220      1.832064        28.098723       5.254108   \n",
       "min        6.000000      0.000000         0.000000       0.000000   \n",
       "25%       39.000000      1.000000        21.000000       0.000000   \n",
       "50%       55.000000      1.000000        31.000000       1.000000   \n",
       "75%       79.000000      1.000000        40.000000       4.000000   \n",
       "max      500.000000    133.000000       235.000000      91.000000   \n",
       "\n",
       "       PM2.5 AQI Value  \n",
       "count     23463.000000  \n",
       "mean         68.519755  \n",
       "std          54.796443  \n",
       "min           0.000000  \n",
       "25%          35.000000  \n",
       "50%          54.000000  \n",
       "75%          79.000000  \n",
       "max         500.000000  "
      ]
     },
     "execution_count": 49,
     "metadata": {},
     "output_type": "execute_result"
    }
   ],
   "source": [
    "# Finding the statistical summary\n",
    "\n",
    "df.describe()"
   ]
  },
  {
   "cell_type": "code",
   "execution_count": 50,
   "id": "e81f720b-abf6-4002-8aa4-1110439b99a0",
   "metadata": {},
   "outputs": [
    {
     "data": {
      "text/plain": [
       "(23463, 12)"
      ]
     },
     "execution_count": 50,
     "metadata": {},
     "output_type": "execute_result"
    }
   ],
   "source": [
    "df.shape"
   ]
  },
  {
   "cell_type": "code",
   "execution_count": 51,
   "id": "03e7694f-daa3-485d-9d07-de701efab20d",
   "metadata": {},
   "outputs": [
    {
     "name": "stdout",
     "output_type": "stream",
     "text": [
      "Number of unique countries: 176\n"
     ]
    }
   ],
   "source": [
    "# Finding the total number of unique countries\n",
    "\n",
    "No_of_countries = len(df['Country'].unique())\n",
    "print('Number of unique countries:',No_of_countries)"
   ]
  },
  {
   "cell_type": "code",
   "execution_count": 52,
   "id": "183cb9f0-3055-4531-9342-fc53abd5dab6",
   "metadata": {},
   "outputs": [
    {
     "data": {
      "text/plain": [
       "Country\n",
       "United States of America    2872\n",
       "India                       2488\n",
       "Brazil                      1562\n",
       "Germany                     1345\n",
       "Russian Federation          1241\n",
       "                            ... \n",
       "Vanuatu                        1\n",
       "Solomon Islands                1\n",
       "Republic of Korea              1\n",
       "Saint Lucia                    1\n",
       "Monaco                         1\n",
       "Name: count, Length: 175, dtype: int64"
      ]
     },
     "execution_count": 52,
     "metadata": {},
     "output_type": "execute_result"
    }
   ],
   "source": [
    "df['Country'].value_counts()"
   ]
  },
  {
   "cell_type": "code",
   "execution_count": 53,
   "id": "1d07e55d-92a7-466a-bd94-577457d041b9",
   "metadata": {},
   "outputs": [
    {
     "data": {
      "text/plain": [
       "Country               427\n",
       "City                    1\n",
       "AQI Value               0\n",
       "AQI Category            0\n",
       "CO AQI Value            0\n",
       "CO AQI Category         0\n",
       "Ozone AQI Value         0\n",
       "Ozone AQI Category      0\n",
       "NO2 AQI Value           0\n",
       "NO2 AQI Category        0\n",
       "PM2.5 AQI Value         0\n",
       "PM2.5 AQI Category      0\n",
       "dtype: int64"
      ]
     },
     "execution_count": 53,
     "metadata": {},
     "output_type": "execute_result"
    }
   ],
   "source": [
    "# Checking the null values\n",
    "\n",
    "df.isnull().sum()"
   ]
  },
  {
   "cell_type": "markdown",
   "id": "47f4444d-2d46-42cb-9f9a-62512c555df8",
   "metadata": {},
   "source": [
    "We can observe that there are 427 null values column Country and 1 null value in column City."
   ]
  },
  {
   "cell_type": "markdown",
   "id": "cac6fc98-537e-44ed-a63d-4e6c470a980f",
   "metadata": {},
   "source": [
    "### Data Preprocessing"
   ]
  },
  {
   "cell_type": "code",
   "execution_count": 54,
   "id": "95eae474-61bb-40c6-8334-5340af96ee80",
   "metadata": {},
   "outputs": [
    {
     "data": {
      "text/plain": [
       "Country               0\n",
       "City                  0\n",
       "AQI Value             0\n",
       "AQI Category          0\n",
       "CO AQI Value          0\n",
       "CO AQI Category       0\n",
       "Ozone AQI Value       0\n",
       "Ozone AQI Category    0\n",
       "NO2 AQI Value         0\n",
       "NO2 AQI Category      0\n",
       "PM2.5 AQI Value       0\n",
       "PM2.5 AQI Category    0\n",
       "dtype: int64"
      ]
     },
     "execution_count": 54,
     "metadata": {},
     "output_type": "execute_result"
    }
   ],
   "source": [
    "# Removing the null values in Country and City\n",
    "\n",
    "df = df.dropna(subset = ['Country','City'])\n",
    "df.isnull().sum()"
   ]
  },
  {
   "cell_type": "markdown",
   "id": "b62090a4-3a08-4b1c-9824-c2e5d5afb6da",
   "metadata": {},
   "source": [
    "Now there are no null values in the data frame."
   ]
  },
  {
   "cell_type": "code",
   "execution_count": 55,
   "id": "4fa6f725-498a-43d2-a70a-593999c6ef76",
   "metadata": {},
   "outputs": [
    {
     "name": "stdout",
     "output_type": "stream",
     "text": [
      "Duplicated rows:\n",
      "Empty DataFrame\n",
      "Columns: [Country, City, AQI Value, AQI Category, CO AQI Value, CO AQI Category, Ozone AQI Value, Ozone AQI Category, NO2 AQI Value, NO2 AQI Category, PM2.5 AQI Value, PM2.5 AQI Category]\n",
      "Index: []\n"
     ]
    }
   ],
   "source": [
    "# Finding the duplicated rows\n",
    "\n",
    "duplicated_rows = df[df.duplicated()]\n",
    "print('Duplicated rows:')\n",
    "print(duplicated_rows)  "
   ]
  },
  {
   "cell_type": "markdown",
   "id": "a8d777e5-8ee1-414a-9055-d75d75b2751b",
   "metadata": {},
   "source": [
    "Duplicated rows are not found in the data frame"
   ]
  },
  {
   "cell_type": "code",
   "execution_count": 56,
   "id": "1adcd935-e5b6-40e3-b58c-a83900b1ed06",
   "metadata": {},
   "outputs": [
    {
     "data": {
      "text/plain": [
       "<Axes: ylabel='AQI Value'>"
      ]
     },
     "execution_count": 56,
     "metadata": {},
     "output_type": "execute_result"
    },
    {
     "data": {
      "image/png": "[encoded data removed]",
      "text/plain": [
       "<Figure size 640x480 with 1 Axes>"
      ]
     },
     "metadata": {},
     "output_type": "display_data"
    }
   ],
   "source": [
    "# Finding and removing the outliers\n",
    "# To see the outliers\n",
    "\n",
    "sns.boxplot(df['AQI Value'])"
   ]
  },
  {
   "cell_type": "code",
   "execution_count": 57,
   "id": "1dc06de2-9ffb-4dc3-aac3-aa1f96a41074",
   "metadata": {},
   "outputs": [
    {
     "name": "stdout",
     "output_type": "stream",
     "text": [
      "Lower limit: -96.73828245763346\n",
      "Upper limit: 241.42766817502005\n"
     ]
    }
   ],
   "source": [
    "# Removing the outliers using Z-score method\n",
    "# Finding the upper limit and lower limit\n",
    "\n",
    "upper_limit=df['AQI Value'].mean() + 3*df['AQI Value'].std() \n",
    "lower_limit=df['AQI Value'].mean() - 3*df['AQI Value'].std()\n",
    "print('Lower limit:',lower_limit)\n",
    "print('Upper limit:',upper_limit)"
   ]
  },
  {
   "cell_type": "code",
   "execution_count": 58,
   "id": "5b9f57e2-c3f1-4d4b-ac36-5fcb19edbe72",
   "metadata": {},
   "outputs": [
    {
     "data": {
      "text/html": [
       "<div>\n",
       "<style scoped>\n",
       "    .dataframe tbody tr th:only-of-type {\n",
       "        vertical-align: middle;\n",
       "    }\n",
       "\n",
       "    .dataframe tbody tr th {\n",
       "        vertical-align: top;\n",
       "    }\n",
       "\n",
       "    .dataframe thead th {\n",
       "        text-align: right;\n",
       "    }\n",
       "</style>\n",
       "<table border=\"1\" class=\"dataframe\">\n",
       "  <thead>\n",
       "    <tr style=\"text-align: right;\">\n",
       "      <th></th>\n",
       "      <th>Country</th>\n",
       "      <th>City</th>\n",
       "      <th>AQI Value</th>\n",
       "      <th>AQI Category</th>\n",
       "      <th>CO AQI Value</th>\n",
       "      <th>CO AQI Category</th>\n",
       "      <th>Ozone AQI Value</th>\n",
       "      <th>Ozone AQI Category</th>\n",
       "      <th>NO2 AQI Value</th>\n",
       "      <th>NO2 AQI Category</th>\n",
       "      <th>PM2.5 AQI Value</th>\n",
       "      <th>PM2.5 AQI Category</th>\n",
       "    </tr>\n",
       "  </thead>\n",
       "  <tbody>\n",
       "    <tr>\n",
       "      <th>43</th>\n",
       "      <td>India</td>\n",
       "      <td>Darbhanga</td>\n",
       "      <td>247</td>\n",
       "      <td>Very Unhealthy</td>\n",
       "      <td>3</td>\n",
       "      <td>Good</td>\n",
       "      <td>162</td>\n",
       "      <td>Unhealthy</td>\n",
       "      <td>1</td>\n",
       "      <td>Good</td>\n",
       "      <td>247</td>\n",
       "      <td>Very Unhealthy</td>\n",
       "    </tr>\n",
       "    <tr>\n",
       "      <th>180</th>\n",
       "      <td>India</td>\n",
       "      <td>Govindgarh</td>\n",
       "      <td>307</td>\n",
       "      <td>Hazardous</td>\n",
       "      <td>1</td>\n",
       "      <td>Good</td>\n",
       "      <td>45</td>\n",
       "      <td>Good</td>\n",
       "      <td>0</td>\n",
       "      <td>Good</td>\n",
       "      <td>307</td>\n",
       "      <td>Hazardous</td>\n",
       "    </tr>\n",
       "    <tr>\n",
       "      <th>276</th>\n",
       "      <td>Pakistan</td>\n",
       "      <td>Bahawalnagar</td>\n",
       "      <td>500</td>\n",
       "      <td>Hazardous</td>\n",
       "      <td>1</td>\n",
       "      <td>Good</td>\n",
       "      <td>38</td>\n",
       "      <td>Good</td>\n",
       "      <td>1</td>\n",
       "      <td>Good</td>\n",
       "      <td>466</td>\n",
       "      <td>Hazardous</td>\n",
       "    </tr>\n",
       "    <tr>\n",
       "      <th>277</th>\n",
       "      <td>South Africa</td>\n",
       "      <td>Balfour</td>\n",
       "      <td>380</td>\n",
       "      <td>Hazardous</td>\n",
       "      <td>31</td>\n",
       "      <td>Good</td>\n",
       "      <td>1</td>\n",
       "      <td>Good</td>\n",
       "      <td>26</td>\n",
       "      <td>Good</td>\n",
       "      <td>380</td>\n",
       "      <td>Hazardous</td>\n",
       "    </tr>\n",
       "    <tr>\n",
       "      <th>417</th>\n",
       "      <td>India</td>\n",
       "      <td>Phillaur</td>\n",
       "      <td>444</td>\n",
       "      <td>Hazardous</td>\n",
       "      <td>2</td>\n",
       "      <td>Good</td>\n",
       "      <td>111</td>\n",
       "      <td>Unhealthy for Sensitive Groups</td>\n",
       "      <td>1</td>\n",
       "      <td>Good</td>\n",
       "      <td>391</td>\n",
       "      <td>Hazardous</td>\n",
       "    </tr>\n",
       "    <tr>\n",
       "      <th>...</th>\n",
       "      <td>...</td>\n",
       "      <td>...</td>\n",
       "      <td>...</td>\n",
       "      <td>...</td>\n",
       "      <td>...</td>\n",
       "      <td>...</td>\n",
       "      <td>...</td>\n",
       "      <td>...</td>\n",
       "      <td>...</td>\n",
       "      <td>...</td>\n",
       "      <td>...</td>\n",
       "      <td>...</td>\n",
       "    </tr>\n",
       "    <tr>\n",
       "      <th>22824</th>\n",
       "      <td>India</td>\n",
       "      <td>Bilari</td>\n",
       "      <td>500</td>\n",
       "      <td>Hazardous</td>\n",
       "      <td>4</td>\n",
       "      <td>Good</td>\n",
       "      <td>158</td>\n",
       "      <td>Unhealthy</td>\n",
       "      <td>4</td>\n",
       "      <td>Good</td>\n",
       "      <td>457</td>\n",
       "      <td>Hazardous</td>\n",
       "    </tr>\n",
       "    <tr>\n",
       "      <th>22837</th>\n",
       "      <td>India</td>\n",
       "      <td>Rajakhera</td>\n",
       "      <td>250</td>\n",
       "      <td>Very Unhealthy</td>\n",
       "      <td>1</td>\n",
       "      <td>Good</td>\n",
       "      <td>39</td>\n",
       "      <td>Good</td>\n",
       "      <td>1</td>\n",
       "      <td>Good</td>\n",
       "      <td>250</td>\n",
       "      <td>Very Unhealthy</td>\n",
       "    </tr>\n",
       "    <tr>\n",
       "      <th>22842</th>\n",
       "      <td>India</td>\n",
       "      <td>Sikandarabad</td>\n",
       "      <td>500</td>\n",
       "      <td>Hazardous</td>\n",
       "      <td>2</td>\n",
       "      <td>Good</td>\n",
       "      <td>42</td>\n",
       "      <td>Good</td>\n",
       "      <td>3</td>\n",
       "      <td>Good</td>\n",
       "      <td>500</td>\n",
       "      <td>Hazardous</td>\n",
       "    </tr>\n",
       "    <tr>\n",
       "      <th>23201</th>\n",
       "      <td>Mexico</td>\n",
       "      <td>Tlalancaleca</td>\n",
       "      <td>355</td>\n",
       "      <td>Hazardous</td>\n",
       "      <td>4</td>\n",
       "      <td>Good</td>\n",
       "      <td>4</td>\n",
       "      <td>Good</td>\n",
       "      <td>17</td>\n",
       "      <td>Good</td>\n",
       "      <td>355</td>\n",
       "      <td>Hazardous</td>\n",
       "    </tr>\n",
       "    <tr>\n",
       "      <th>23372</th>\n",
       "      <td>Pakistan</td>\n",
       "      <td>Mian Channun</td>\n",
       "      <td>252</td>\n",
       "      <td>Very Unhealthy</td>\n",
       "      <td>2</td>\n",
       "      <td>Good</td>\n",
       "      <td>135</td>\n",
       "      <td>Unhealthy for Sensitive Groups</td>\n",
       "      <td>1</td>\n",
       "      <td>Good</td>\n",
       "      <td>252</td>\n",
       "      <td>Very Unhealthy</td>\n",
       "    </tr>\n",
       "  </tbody>\n",
       "</table>\n",
       "<p>271 rows × 12 columns</p>\n",
       "</div>"
      ],
      "text/plain": [
       "            Country          City  AQI Value    AQI Category  CO AQI Value  \\\n",
       "43            India     Darbhanga        247  Very Unhealthy             3   \n",
       "180           India    Govindgarh        307       Hazardous             1   \n",
       "276        Pakistan  Bahawalnagar        500       Hazardous             1   \n",
       "277    South Africa       Balfour        380       Hazardous            31   \n",
       "417           India      Phillaur        444       Hazardous             2   \n",
       "...             ...           ...        ...             ...           ...   \n",
       "22824         India        Bilari        500       Hazardous             4   \n",
       "22837         India     Rajakhera        250  Very Unhealthy             1   \n",
       "22842         India  Sikandarabad        500       Hazardous             2   \n",
       "23201        Mexico  Tlalancaleca        355       Hazardous             4   \n",
       "23372      Pakistan  Mian Channun        252  Very Unhealthy             2   \n",
       "\n",
       "      CO AQI Category  Ozone AQI Value              Ozone AQI Category  \\\n",
       "43               Good              162                       Unhealthy   \n",
       "180              Good               45                            Good   \n",
       "276              Good               38                            Good   \n",
       "277              Good                1                            Good   \n",
       "417              Good              111  Unhealthy for Sensitive Groups   \n",
       "...               ...              ...                             ...   \n",
       "22824            Good              158                       Unhealthy   \n",
       "22837            Good               39                            Good   \n",
       "22842            Good               42                            Good   \n",
       "23201            Good                4                            Good   \n",
       "23372            Good              135  Unhealthy for Sensitive Groups   \n",
       "\n",
       "       NO2 AQI Value NO2 AQI Category  PM2.5 AQI Value PM2.5 AQI Category  \n",
       "43                 1             Good              247     Very Unhealthy  \n",
       "180                0             Good              307          Hazardous  \n",
       "276                1             Good              466          Hazardous  \n",
       "277               26             Good              380          Hazardous  \n",
       "417                1             Good              391          Hazardous  \n",
       "...              ...              ...              ...                ...  \n",
       "22824              4             Good              457          Hazardous  \n",
       "22837              1             Good              250     Very Unhealthy  \n",
       "22842              3             Good              500          Hazardous  \n",
       "23201             17             Good              355          Hazardous  \n",
       "23372              1             Good              252     Very Unhealthy  \n",
       "\n",
       "[271 rows x 12 columns]"
      ]
     },
     "execution_count": 58,
     "metadata": {},
     "output_type": "execute_result"
    }
   ],
   "source": [
    "# finding outliers\n",
    "\n",
    "df.loc[(df['AQI Value'] > upper_limit) | (df['AQI Value'] < lower_limit)]"
   ]
  },
  {
   "cell_type": "code",
   "execution_count": 59,
   "id": "f6bc2222-d8ed-4279-8a4d-6c811b12ebee",
   "metadata": {},
   "outputs": [
    {
     "name": "stdout",
     "output_type": "stream",
     "text": [
      "Number of rows before removimg outliers: 23035\n",
      "Number of rows after removimg outliers: 22764\n",
      "Outliers: 271\n"
     ]
    }
   ],
   "source": [
    "# removing outliers\n",
    "\n",
    "AQI = df.loc[(df['AQI Value'] <= upper_limit) & (df['AQI Value'] >= lower_limit)]\n",
    "print('Number of rows before removimg outliers:',len(df))\n",
    "print('Number of rows after removimg outliers:',len(AQI))\n",
    "print('Outliers:',len(df) - len(AQI))"
   ]
  },
  {
   "cell_type": "markdown",
   "id": "9318c9ef-aee8-438f-a5d4-60c2b1e49921",
   "metadata": {},
   "source": [
    "Now all the outliers are removed. Here is the box plot of new and cleaned data frame."
   ]
  },
  {
   "cell_type": "code",
   "execution_count": 60,
   "id": "fb59ee67-3252-4344-ad0d-e81a94dc7363",
   "metadata": {},
   "outputs": [
    {
     "data": {
      "text/plain": [
       "<Axes: ylabel='AQI Value'>"
      ]
     },
     "execution_count": 60,
     "metadata": {},
     "output_type": "execute_result"
    },
    {
     "data": {
      "image/png": "[encoded data removed]",
      "text/plain": [
       "<Figure size 640x480 with 1 Axes>"
      ]
     },
     "metadata": {},
     "output_type": "display_data"
    }
   ],
   "source": [
    "sns.boxplot(AQI['AQI Value'])"
   ]
  },
  {
   "cell_type": "code",
   "execution_count": 61,
   "id": "44deaa63-1282-42fa-8e22-0ef46f81f1f7",
   "metadata": {},
   "outputs": [
    {
     "data": {
      "image/png": "[encoded data removed]",
      "text/plain": [
       "<Figure size 1200x600 with 2 Axes>"
      ]
     },
     "metadata": {},
     "output_type": "display_data"
    }
   ],
   "source": [
    "# Addressing skewed data in numerical features\n",
    "from scipy.stats import skew\n",
    "\n",
    "data = np.random.exponential(scale=2, size=1000)\n",
    "\n",
    "# Visualize original data\n",
    "plt.figure(figsize=(12, 6))\n",
    "plt.subplot(1,2,1)\n",
    "plt.hist(data, bins=30)\n",
    "plt.title('Original Data')\n",
    "\n",
    "# Apply log transformation\n",
    "log_transformed = np.log1p(data)\n",
    "\n",
    "# Visualize transformed data\n",
    "plt.subplot(1,2,2)\n",
    "plt.hist(log_transformed, bins=30)\n",
    "plt.title('Transformed Data')\n",
    "plt.show()"
   ]
  },
  {
   "cell_type": "markdown",
   "id": "d82bc033-1540-4fe3-95eb-9a4116c8f324",
   "metadata": {},
   "source": [
    "It is right skewed(Positively skewed)"
   ]
  },
  {
   "cell_type": "markdown",
   "id": "dfd38981-4acd-4817-9051-f83b374c851c",
   "metadata": {},
   "source": [
    "### Data Visualization"
   ]
  },
  {
   "cell_type": "code",
   "execution_count": 62,
   "id": "8c343e14-ae12-4165-b216-5f458f36663f",
   "metadata": {},
   "outputs": [
    {
     "data": {
      "image/png": "[encoded data removed]",
      "text/plain": [
       "<Figure size 640x480 with 2 Axes>"
      ]
     },
     "metadata": {},
     "output_type": "display_data"
    }
   ],
   "source": [
    "# Heatmap\n",
    "\n",
    "numerical_columns = ['AQI Value', 'CO AQI Value', 'Ozone AQI Value', 'NO2 AQI Value', 'PM2.5 AQI Value']\n",
    "corr_matrix = df[numerical_columns].corr()\n",
    "\n",
    "sns.heatmap(corr_matrix, annot=True)\n",
    "plt.title('Heatmap of AQI Correlations')\n",
    "plt.show()"
   ]
  },
  {
   "cell_type": "markdown",
   "id": "3a24c13c-31c8-49e7-8d6f-6db7375ab958",
   "metadata": {},
   "source": [
    "Positively Correlated: "
   ]
  },
  {
   "cell_type": "markdown",
   "id": "ee8dcbc1-1e71-43b4-9673-4427e9857156",
   "metadata": {},
   "source": [
    "AQI Value and PM2.5 AQI Value are positively correlated"
   ]
  },
  {
   "cell_type": "markdown",
   "id": "0212e1f8-eec3-46b4-9a73-1d15e4a749fd",
   "metadata": {},
   "source": [
    "Neagatively Correlated:"
   ]
  },
  {
   "cell_type": "markdown",
   "id": "3d492cc7-42b5-4b3a-a30e-ac2752304437",
   "metadata": {},
   "source": [
    "Ozone AQI Value and NO2 AQI Value are negatively correlated"
   ]
  },
  {
   "cell_type": "code",
   "execution_count": 63,
   "id": "7d1bff7b-6e08-431b-a473-d0493d3b89f8",
   "metadata": {},
   "outputs": [
    {
     "data": {
      "image/png": "[encoded data removed]",
      "text/plain": [
       "<Figure size 640x480 with 1 Axes>"
      ]
     },
     "metadata": {},
     "output_type": "display_data"
    }
   ],
   "source": [
    "# Histogram \n",
    "\n",
    "sns.histplot(AQI['AQI Value'], bins=10)\n",
    "plt.title('Histogram of AQI Values')\n",
    "plt.xlabel('AQI Value')\n",
    "plt.ylabel('Frequency')\n",
    "plt.show()"
   ]
  },
  {
   "cell_type": "code",
   "execution_count": 64,
   "id": "221e47ae-c157-4116-b353-e9836b861191",
   "metadata": {},
   "outputs": [
    {
     "data": {
      "image/png": "[encoded data removed]",
      "text/plain": [
       "<Figure size 1000x600 with 1 Axes>"
      ]
     },
     "metadata": {},
     "output_type": "display_data"
    }
   ],
   "source": [
    "# Count plot\n",
    "\n",
    "plt.figure(figsize=(10, 6))\n",
    "sns.countplot(data = AQI, x = 'AQI Category')\n",
    "plt.title('Count Plot of AQI Categories')\n",
    "plt.xlabel('AQI Category')\n",
    "plt.ylabel('Count')\n",
    "plt.show()"
   ]
  },
  {
   "cell_type": "markdown",
   "id": "1b97377f-3502-43c6-9645-456b6fdbb081",
   "metadata": {},
   "source": [
    "### Feature Engineering"
   ]
  },
  {
   "cell_type": "markdown",
   "id": "e6459f66-9277-4c14-bcdb-fb43eadd1929",
   "metadata": {},
   "source": [
    "This dataset includes categorical data such as Country, City, AQI Category, CO AQI Category, Ozone AQI Category, NO2 AQI Category, PM2.5 AQI Category. So we need to perform 'Label Encoding' to convert these categorical values into numerical values."
   ]
  },
  {
   "cell_type": "code",
   "execution_count": 65,
   "id": "a446e949-e316-4fbe-ac9d-afe259937b45",
   "metadata": {},
   "outputs": [],
   "source": [
    "from sklearn.preprocessing import LabelEncoder"
   ]
  },
  {
   "cell_type": "code",
   "execution_count": 66,
   "id": "9b8ee680-f090-4639-a8d9-bb83e2a73b7f",
   "metadata": {},
   "outputs": [],
   "source": [
    "label_encoder = LabelEncoder()"
   ]
  },
  {
   "cell_type": "code",
   "execution_count": 67,
   "id": "bd8dbd4c-8127-4bb8-8e73-570f6f2d0b8a",
   "metadata": {},
   "outputs": [
    {
     "data": {
      "text/html": [
       "<div>\n",
       "<style scoped>\n",
       "    .dataframe tbody tr th:only-of-type {\n",
       "        vertical-align: middle;\n",
       "    }\n",
       "\n",
       "    .dataframe tbody tr th {\n",
       "        vertical-align: top;\n",
       "    }\n",
       "\n",
       "    .dataframe thead th {\n",
       "        text-align: right;\n",
       "    }\n",
       "</style>\n",
       "<table border=\"1\" class=\"dataframe\">\n",
       "  <thead>\n",
       "    <tr style=\"text-align: right;\">\n",
       "      <th></th>\n",
       "      <th>Country</th>\n",
       "      <th>City</th>\n",
       "      <th>AQI Value</th>\n",
       "      <th>AQI Category</th>\n",
       "      <th>CO AQI Value</th>\n",
       "      <th>CO AQI Category</th>\n",
       "      <th>Ozone AQI Value</th>\n",
       "      <th>Ozone AQI Category</th>\n",
       "      <th>NO2 AQI Value</th>\n",
       "      <th>NO2 AQI Category</th>\n",
       "      <th>PM2.5 AQI Value</th>\n",
       "      <th>PM2.5 AQI Category</th>\n",
       "    </tr>\n",
       "  </thead>\n",
       "  <tbody>\n",
       "    <tr>\n",
       "      <th>0</th>\n",
       "      <td>129</td>\n",
       "      <td>16018</td>\n",
       "      <td>51</td>\n",
       "      <td>1</td>\n",
       "      <td>1</td>\n",
       "      <td>0</td>\n",
       "      <td>36</td>\n",
       "      <td>0</td>\n",
       "      <td>0</td>\n",
       "      <td>0</td>\n",
       "      <td>51</td>\n",
       "      <td>1</td>\n",
       "    </tr>\n",
       "    <tr>\n",
       "      <th>1</th>\n",
       "      <td>22</td>\n",
       "      <td>16038</td>\n",
       "      <td>41</td>\n",
       "      <td>0</td>\n",
       "      <td>1</td>\n",
       "      <td>0</td>\n",
       "      <td>5</td>\n",
       "      <td>0</td>\n",
       "      <td>1</td>\n",
       "      <td>0</td>\n",
       "      <td>41</td>\n",
       "      <td>0</td>\n",
       "    </tr>\n",
       "  </tbody>\n",
       "</table>\n",
       "</div>"
      ],
      "text/plain": [
       "   Country   City  AQI Value  AQI Category  CO AQI Value  CO AQI Category  \\\n",
       "0      129  16018         51             1             1                0   \n",
       "1       22  16038         41             0             1                0   \n",
       "\n",
       "   Ozone AQI Value  Ozone AQI Category  NO2 AQI Value  NO2 AQI Category  \\\n",
       "0               36                   0              0                 0   \n",
       "1                5                   0              1                 0   \n",
       "\n",
       "   PM2.5 AQI Value  PM2.5 AQI Category  \n",
       "0               51                   1  \n",
       "1               41                   0  "
      ]
     },
     "execution_count": 67,
     "metadata": {},
     "output_type": "execute_result"
    }
   ],
   "source": [
    "cat_col = ['Country', 'City', 'AQI Category', 'CO AQI Category', 'Ozone AQI Category', 'NO2 AQI Category', 'PM2.5 AQI Category']\n",
    "for col in cat_col:\n",
    "    AQI[col] = label_encoder.fit_transform(AQI[col])\n",
    "AQI.head(2)"
   ]
  },
  {
   "cell_type": "markdown",
   "id": "8ccce75c-955e-4a2e-8f34-df986c8fd62c",
   "metadata": {},
   "source": [
    "### Feature Selection"
   ]
  },
  {
   "cell_type": "code",
   "execution_count": 68,
   "id": "81fc8755-cde3-48d7-b987-ecbbd48cb64e",
   "metadata": {},
   "outputs": [],
   "source": [
    "# Using SelectKBest\n",
    "\n",
    "from sklearn.feature_selection import SelectKBest, f_regression\n",
    "from sklearn.model_selection import train_test_split"
   ]
  },
  {
   "cell_type": "code",
   "execution_count": 69,
   "id": "5aaab208-36de-4038-9b23-87afa8ceb0c9",
   "metadata": {},
   "outputs": [
    {
     "name": "stdout",
     "output_type": "stream",
     "text": [
      "Selected Features: Index(['AQI Category', 'CO AQI Value', 'Ozone AQI Value', 'Ozone AQI Category',\n",
      "       'PM2.5 AQI Value', 'PM2.5 AQI Category'],\n",
      "      dtype='object')\n"
     ]
    }
   ],
   "source": [
    "x = AQI.drop('AQI Value', axis=1)\n",
    "y = AQI['AQI Value']\n",
    "\n",
    "x_train,x_test,y_train,y_test = train_test_split(x, y, test_size = 0.2, random_state = 42)\n",
    "\n",
    "# Initialize SelectKBest with ANOVA F-test\n",
    "selector = SelectKBest(score_func=f_regression, k=6)\n",
    "x_selected = selector.fit_transform(x_train, y_train)\n",
    "\n",
    "# Select indices of selected features\n",
    "selected_indices = selector.get_support(indices = True)\n",
    "\n",
    "# Get the names of selected features\n",
    "selected_features = x.columns[selected_indices] \n",
    "\n",
    "print('Selected Features:',selected_features)"
   ]
  },
  {
   "cell_type": "code",
   "execution_count": 70,
   "id": "6e786ee6-3279-4594-b030-72d1c97a269f",
   "metadata": {},
   "outputs": [],
   "source": [
    "# Using Random Forest\n",
    "\n",
    "from sklearn.ensemble import RandomForestRegressor"
   ]
  },
  {
   "cell_type": "code",
   "execution_count": 71,
   "id": "88f9e39b-cfd9-41e3-9341-15b2c5a3f286",
   "metadata": {},
   "outputs": [
    {
     "name": "stdout",
     "output_type": "stream",
     "text": [
      "AQI Category          8.709145e-01\n",
      "PM2.5 AQI Value       1.099364e-01\n",
      "Ozone AQI Value       1.911707e-02\n",
      "Country               9.245785e-06\n",
      "Ozone AQI Category    8.982576e-06\n",
      "City                  5.712801e-06\n",
      "CO AQI Value          3.290395e-06\n",
      "NO2 AQI Value         3.282544e-06\n",
      "PM2.5 AQI Category    1.535520e-06\n",
      "NO2 AQI Category      1.465579e-10\n",
      "CO AQI Category       0.000000e+00\n",
      "dtype: float64\n",
      "\n",
      " Index(['AQI Category', 'PM2.5 AQI Value', 'Ozone AQI Value'], dtype='object')\n"
     ]
    }
   ],
   "source": [
    "X = AQI.drop('AQI Value', axis=1)\n",
    "Y = AQI['AQI Value']\n",
    "\n",
    "X_train,X_test,Y_train,Y_test = train_test_split(X, Y, test_size = 0.2, random_state = 42)\n",
    "\n",
    "# Train the Random Forest model\n",
    "rf = RandomForestRegressor(n_estimators=100, random_state=42)\n",
    "rf.fit(X_train, y_train)\n",
    "\n",
    "# Get feature importances\n",
    "importances = rf.feature_importances_\n",
    "\n",
    "# Convert the importances into a pandas series\n",
    "feature_importances = pd.Series(importances, index=X.columns)\n",
    "\n",
    "# Sort the feature importances\n",
    "feature_importances = feature_importances.sort_values(ascending=False)\n",
    "print(feature_importances)\n",
    "\n",
    "# Set a threshold\n",
    "selected_features = feature_importances[feature_importances > 0.01].index\n",
    "print('\\n',selected_features)"
   ]
  },
  {
   "cell_type": "markdown",
   "id": "4b1a7503-cdb7-4930-9169-f04ac8b4911a",
   "metadata": {},
   "source": [
    "The above 2 feature selection shows AQI Category and PM2.5 AQI Value have more importance. But while calculating the AQI Value, the value of other pollutants like CO AQI Value, Ozone AQI Value, NO2 AQI Value are also effect the value of AQI. Likewise the features Country and City are also important to predict the AQI value in different places. So there is no need to remove these features.  "
   ]
  },
  {
   "cell_type": "markdown",
   "id": "00dc0c8a-29ff-4d1f-8347-d3d8d0a78759",
   "metadata": {},
   "source": [
    "But the features like Ozone AQI Category, NO2 AQI Category, CO AQI Category, PM2.5 AQI Category have no importance while calculating the AQI value. So we need to remove these features."
   ]
  },
  {
   "cell_type": "code",
   "execution_count": 72,
   "id": "f4e54de7-0716-4633-845d-84ee9595a8c1",
   "metadata": {},
   "outputs": [
    {
     "data": {
      "text/html": [
       "<div>\n",
       "<style scoped>\n",
       "    .dataframe tbody tr th:only-of-type {\n",
       "        vertical-align: middle;\n",
       "    }\n",
       "\n",
       "    .dataframe tbody tr th {\n",
       "        vertical-align: top;\n",
       "    }\n",
       "\n",
       "    .dataframe thead th {\n",
       "        text-align: right;\n",
       "    }\n",
       "</style>\n",
       "<table border=\"1\" class=\"dataframe\">\n",
       "  <thead>\n",
       "    <tr style=\"text-align: right;\">\n",
       "      <th></th>\n",
       "      <th>Country</th>\n",
       "      <th>City</th>\n",
       "      <th>AQI Value</th>\n",
       "      <th>AQI Category</th>\n",
       "      <th>CO AQI Value</th>\n",
       "      <th>Ozone AQI Value</th>\n",
       "      <th>NO2 AQI Value</th>\n",
       "      <th>PM2.5 AQI Value</th>\n",
       "    </tr>\n",
       "  </thead>\n",
       "  <tbody>\n",
       "    <tr>\n",
       "      <th>0</th>\n",
       "      <td>129</td>\n",
       "      <td>16018</td>\n",
       "      <td>51</td>\n",
       "      <td>1</td>\n",
       "      <td>1</td>\n",
       "      <td>36</td>\n",
       "      <td>0</td>\n",
       "      <td>51</td>\n",
       "    </tr>\n",
       "    <tr>\n",
       "      <th>1</th>\n",
       "      <td>22</td>\n",
       "      <td>16038</td>\n",
       "      <td>41</td>\n",
       "      <td>0</td>\n",
       "      <td>1</td>\n",
       "      <td>5</td>\n",
       "      <td>1</td>\n",
       "      <td>41</td>\n",
       "    </tr>\n",
       "  </tbody>\n",
       "</table>\n",
       "</div>"
      ],
      "text/plain": [
       "   Country   City  AQI Value  AQI Category  CO AQI Value  Ozone AQI Value  \\\n",
       "0      129  16018         51             1             1               36   \n",
       "1       22  16038         41             0             1                5   \n",
       "\n",
       "   NO2 AQI Value  PM2.5 AQI Value  \n",
       "0              0               51  \n",
       "1              1               41  "
      ]
     },
     "execution_count": 72,
     "metadata": {},
     "output_type": "execute_result"
    }
   ],
   "source": [
    "# Removing irrelevant columns\n",
    "\n",
    "AQI = AQI.drop(columns = ['Ozone AQI Category','NO2 AQI Category','CO AQI Category','PM2.5 AQI Category'])\n",
    "AQI.head(2)"
   ]
  },
  {
   "cell_type": "markdown",
   "id": "95722456-8af3-437e-9d62-f550fd5cee7d",
   "metadata": {},
   "source": [
    "### Feature Scaling"
   ]
  },
  {
   "cell_type": "code",
   "execution_count": 73,
   "id": "bb0fd169-2c06-43ca-9a2b-5c71f98cea11",
   "metadata": {},
   "outputs": [],
   "source": [
    "from sklearn.preprocessing import MinMaxScaler,StandardScaler"
   ]
  },
  {
   "cell_type": "code",
   "execution_count": 74,
   "id": "d96fb380-7fb4-4fd0-91da-4873c270030e",
   "metadata": {},
   "outputs": [],
   "source": [
    "minmax_scaler = MinMaxScaler()"
   ]
  },
  {
   "cell_type": "code",
   "execution_count": 75,
   "id": "c24b539b-74aa-4ea0-a058-ce1db301db60",
   "metadata": {},
   "outputs": [
    {
     "data": {
      "text/plain": [
       "array([[0.19148936, 0.01492537, 0.15319149, 0.        , 0.21161826],\n",
       "       [0.14893617, 0.01492537, 0.0212766 , 0.01449275, 0.17012448],\n",
       "       [0.25531915, 0.01492537, 0.16595745, 0.02898551, 0.27385892],\n",
       "       ...,\n",
       "       [0.18723404, 0.01492537, 0.09361702, 0.01449275, 0.20746888],\n",
       "       [0.27659574, 0.01492537, 0.18723404, 0.02898551, 0.29460581],\n",
       "       [0.27234043, 0.01492537, 0.16170213, 0.        , 0.29045643]])"
      ]
     },
     "execution_count": 75,
     "metadata": {},
     "output_type": "execute_result"
    }
   ],
   "source": [
    "scaled_features = minmax_scaler.fit_transform(AQI[['AQI Value','CO AQI Value','Ozone AQI Value','NO2 AQI Value','PM2.5 AQI Value']])\n",
    "scaled_features"
   ]
  },
  {
   "cell_type": "markdown",
   "id": "810f05d9-f59d-46c9-8865-ba6eeaaec9fc",
   "metadata": {},
   "source": [
    "### Splitting the Data"
   ]
  },
  {
   "cell_type": "code",
   "execution_count": 76,
   "id": "9c6f16bb-2758-479f-95bf-f58212227c85",
   "metadata": {},
   "outputs": [],
   "source": [
    "# Separating feature and target variable\n",
    "\n",
    "x = AQI.drop('AQI Value', axis=1)\n",
    "y = AQI['AQI Value']"
   ]
  },
  {
   "cell_type": "code",
   "execution_count": 77,
   "id": "0cbbb2f2-ebf8-4b94-853b-a18ee0443f47",
   "metadata": {},
   "outputs": [],
   "source": [
    "# Splitting the data into training and testing\n",
    "\n",
    "x_train,x_test,y_train,y_test = train_test_split(x, y, test_size = 0.3, random_state = 42)"
   ]
  },
  {
   "cell_type": "code",
   "execution_count": 78,
   "id": "df98ab9f-922d-40a1-a222-315661de5a80",
   "metadata": {},
   "outputs": [
    {
     "name": "stdout",
     "output_type": "stream",
     "text": [
      "Shape of x_train: (15934, 7)\n",
      "Shape of x_test: (6830, 7)\n",
      "Shape of y_train: (15934,)\n",
      "Shape of y_test: (6830,)\n"
     ]
    }
   ],
   "source": [
    "print(\"Shape of x_train:\", x_train.shape)\n",
    "print(\"Shape of x_test:\", x_test.shape)\n",
    "print(\"Shape of y_train:\", y_train.shape)\n",
    "print(\"Shape of y_test:\", y_test.shape)"
   ]
  },
  {
   "cell_type": "markdown",
   "id": "f3db0689-62ab-42b8-a1de-2cbe6480c76c",
   "metadata": {},
   "source": [
    "### Building and Evaluating the Machine Learning Models"
   ]
  },
  {
   "cell_type": "code",
   "execution_count": 79,
   "id": "d666919a-35af-432f-b3b2-0f16724950d4",
   "metadata": {},
   "outputs": [],
   "source": [
    "from sklearn.linear_model import LinearRegression\n",
    "from sklearn.ensemble import GradientBoostingRegressor, AdaBoostRegressor\n",
    "from sklearn.svm import SVR\n",
    "from sklearn.neural_network import MLPRegressor\n",
    "from sklearn.metrics import mean_squared_error, mean_absolute_error, r2_score"
   ]
  },
  {
   "cell_type": "code",
   "execution_count": 80,
   "id": "c59355aa-eb79-4460-aaa1-282031de8a21",
   "metadata": {},
   "outputs": [
    {
     "name": "stdout",
     "output_type": "stream",
     "text": [
      "Mean Squared Error: 44.74233325816895\n",
      "Mean Absolute Error: 4.497762991666512\n",
      "Root Mean Squared Error: 6.688971016394745\n",
      "R2 Score: 0.9763432227912576\n"
     ]
    }
   ],
   "source": [
    "# Linear Regression\n",
    "# Create and train the model\n",
    "\n",
    "linear = LinearRegression()\n",
    "linear.fit(x_train, y_train)\n",
    "\n",
    "# Make predictions and evaluate\n",
    "\n",
    "y_pred = linear.predict(x_test)\n",
    "mse = mean_squared_error(y_test, y_pred)\n",
    "rmse = np.sqrt(mse)\n",
    "mae = mean_absolute_error(y_test, y_pred)\n",
    "r2 = r2_score(y_test,y_pred)\n",
    "print(\"Mean Squared Error:\", mse)\n",
    "print(\"Mean Absolute Error:\",mae)\n",
    "print(\"Root Mean Squared Error:\",rmse)\n",
    "print(\"R2 Score:\", r2)"
   ]
  },
  {
   "cell_type": "code",
   "execution_count": 81,
   "id": "24235825-5f5b-4f90-a800-e15b580652ce",
   "metadata": {},
   "outputs": [
    {
     "name": "stdout",
     "output_type": "stream",
     "text": [
      "Mean Squared Error: 7.8089055698171626\n",
      "Mean Absolute Error: 1.9317361739768906\n",
      "Root Mean Squared Error: 2.794441906681397\n",
      "R2 Score: 0.9958711688493459\n"
     ]
    }
   ],
   "source": [
    "# Random Forest Regression\n",
    "# Create and train the model\n",
    "\n",
    "rf = RandomForestRegressor(n_estimators=800,\n",
    "                           max_depth=10,\n",
    "                           min_samples_split=2,\n",
    "                           min_samples_leaf=1,\n",
    "                           max_features='sqrt',\n",
    "                           bootstrap=True)\n",
    "\n",
    "rf.fit(x_train, y_train)\n",
    "\n",
    "# Make predictions and evaluate\n",
    "\n",
    "y_pred = rf.predict(x_test)\n",
    "mse = mean_squared_error(y_test, y_pred)\n",
    "rmse = np.sqrt(mse)\n",
    "mae = mean_absolute_error(y_test, y_pred)\n",
    "r2 = r2_score(y_test,y_pred)\n",
    "print(\"Mean Squared Error:\", mse)\n",
    "print(\"Mean Absolute Error:\",mae)\n",
    "print(\"Root Mean Squared Error:\",rmse)\n",
    "print(\"R2 Score:\", r2)"
   ]
  },
  {
   "cell_type": "code",
   "execution_count": 82,
   "id": "2bf6cdd4-b63a-4f5b-9796-368ea347c8c0",
   "metadata": {},
   "outputs": [
    {
     "name": "stdout",
     "output_type": "stream",
     "text": [
      "Mean Squared Error: 379.9902623637631\n",
      "Mean Absolute Error: 14.200980928425613\n",
      "Root Mean Squared Error: 19.49333892291834\n",
      "R2 Score: 0.7990863613133123\n"
     ]
    }
   ],
   "source": [
    "# Gradient Boost Regression\n",
    "# Create and train the model\n",
    "\n",
    "gb = GradientBoostingRegressor(n_estimators=100,\n",
    "                                learning_rate=0.01,\n",
    "                                max_depth=3,\n",
    "                                min_samples_split=2,\n",
    "                                min_samples_leaf=1,\n",
    "                                subsample=0.6,\n",
    "                                max_features='sqrt')\n",
    "\n",
    "gb.fit(x_train, y_train)\n",
    "\n",
    "# Make predictions and evaluate\n",
    "\n",
    "y_pred = gb.predict(x_test)\n",
    "mse = mean_squared_error(y_test, y_pred)\n",
    "rmse = np.sqrt(mse)\n",
    "mae = mean_absolute_error(y_test, y_pred)\n",
    "r2 = r2_score(y_test,y_pred)\n",
    "print(\"Mean Squared Error:\", mse)\n",
    "print(\"Mean Absolute Error:\",mae)\n",
    "print(\"Root Mean Squared Error:\",rmse)\n",
    "print(\"R2 Score:\", r2)"
   ]
  },
  {
   "cell_type": "code",
   "execution_count": 85,
   "id": "37b5da6d-200b-4bd1-92b1-e83ca208dcb1",
   "metadata": {},
   "outputs": [
    {
     "name": "stdout",
     "output_type": "stream",
     "text": [
      "Mean Squared Error: 2077.8535189638724\n",
      "Mean Absolute Error: 29.66930662928014\n",
      "Root Mean Squared Error: 45.583478574631314\n",
      "R2 Score: -0.09863107690198802\n"
     ]
    }
   ],
   "source": [
    "# Support Vector Regression(SVR)\n",
    "# Create and train the model\n",
    "\n",
    "svr = SVR()\n",
    "svr.fit(x_train, y_train)\n",
    "\n",
    "# Make predictions and evaluate\n",
    "\n",
    "y_pred = svr.predict(x_test)\n",
    "mse = mean_squared_error(y_test, y_pred)\n",
    "rmse = np.sqrt(mse)\n",
    "mae = mean_absolute_error(y_test, y_pred)\n",
    "r2 = r2_score(y_test,y_pred)\n",
    "print(\"Mean Squared Error:\", mse)\n",
    "print(\"Mean Absolute Error:\",mae)\n",
    "print(\"Root Mean Squared Error:\",rmse)\n",
    "print(\"R2 Score:\", r2)"
   ]
  },
  {
   "cell_type": "code",
   "execution_count": 86,
   "id": "d655f3d7-7f7d-44cf-aff3-236e187aed29",
   "metadata": {},
   "outputs": [
    {
     "name": "stdout",
     "output_type": "stream",
     "text": [
      "Mean Squared Error: 54.124473446401765\n",
      "Mean Absolute Error: 5.9673789436126015\n",
      "Root Mean Squared Error: 7.356933698654744\n",
      "R2 Score: 0.9713825695572493\n"
     ]
    }
   ],
   "source": [
    "# AdaBoost Regression\n",
    "# Create and train the model\n",
    "\n",
    "adaboost = AdaBoostRegressor()\n",
    "adaboost.fit(x_train, y_train)\n",
    "\n",
    "# Make predictions and evaluate\n",
    "\n",
    "y_pred = adaboost.predict(x_test)\n",
    "mse = mean_squared_error(y_test, y_pred)\n",
    "rmse = np.sqrt(mse)\n",
    "mae = mean_absolute_error(y_test, y_pred)\n",
    "r2 = r2_score(y_test,y_pred)\n",
    "print(\"Mean Squared Error:\", mse)\n",
    "print(\"Mean Absolute Error:\",mae)\n",
    "print(\"Root Mean Squared Error:\",rmse)\n",
    "print(\"R2 Score:\", r2)"
   ]
  },
  {
   "cell_type": "code",
   "execution_count": 87,
   "id": "94b657bf-45d6-4d81-829d-913d118b67d0",
   "metadata": {},
   "outputs": [
    {
     "name": "stdout",
     "output_type": "stream",
     "text": [
      "Mean Squared Error: 88.80541812377089\n",
      "Mean Absolute Error: 7.427300862730972\n",
      "Root Mean Squared Error: 9.423662670308763\n",
      "R2 Score: 0.9530455870649147\n"
     ]
    }
   ],
   "source": [
    "# Multilayer Perceptron(MLP) Regressor\n",
    "# Create and train the model\n",
    "\n",
    "mlp = MLPRegressor(hidden_layer_sizes=(100, 50), max_iter=1000, random_state=42)\n",
    "mlp.fit(x_train, y_train)\n",
    "\n",
    "# Make predictions and evaluate\n",
    "\n",
    "y_pred = mlp.predict(x_test)\n",
    "mse = mean_squared_error(y_test, y_pred)\n",
    "rmse = np.sqrt(mse)\n",
    "mae = mean_absolute_error(y_test, y_pred)\n",
    "r2 = r2_score(y_test,y_pred)\n",
    "print(\"Mean Squared Error:\", mse)\n",
    "print(\"Mean Absolute Error:\",mae)\n",
    "print(\"Root Mean Squared Error:\",rmse)\n",
    "print(\"R2 Score:\", r2)"
   ]
  },
  {
   "cell_type": "code",
   "execution_count": 88,
   "id": "fdcd7e76-94bd-46a1-a070-e1d41b49811c",
   "metadata": {},
   "outputs": [
    {
     "name": "stdout",
     "output_type": "stream",
     "text": [
      "\n",
      "Linear Regression cross-validation scores: [0.98008363 0.97269315 0.97566473 0.97741846 0.97541765 0.97358518\n",
      " 0.97801601 0.97597513 0.97881006 0.97712386]\n",
      "Mean of cross-validation score: 0.9764787841791893\n",
      "\n",
      "Random Forest cross-validation scores: [0.99638003 0.99581421 0.99580212 0.99615311 0.99559576 0.99613741\n",
      " 0.99619155 0.99536194 0.99648953 0.99581237]\n",
      "Mean of cross-validation score: 0.9959738019328773\n",
      "\n",
      "GradientBoost cross-validation scores: [0.78003519 0.79039743 0.78533183 0.77816942 0.78417248 0.80218505\n",
      " 0.78663218 0.77361221 0.77440641 0.77714013]\n",
      "Mean of cross-validation score: 0.7832082324860493\n",
      "\n",
      "SVR cross-validation scores: [-0.09237597 -0.08250786 -0.10496319 -0.07940597 -0.08397145 -0.0905885\n",
      " -0.08729754 -0.07878336 -0.10245413 -0.07744916]\n",
      "Mean of cross-validation score: -0.08797971273783838\n",
      "\n",
      "AdaBoost cross-validation scores: [0.96973013 0.96593921 0.96870674 0.96693407 0.9714199  0.96878324\n",
      " 0.97139732 0.96581625 0.96755303 0.96466473]\n",
      "Mean of cross-validation score: 0.9680944612995239\n",
      "\n",
      "MLP cross-validation scores: [0.99533059 0.96267195 0.98472167 0.99538632 0.97222594 0.89430849\n",
      " 0.99088953 0.70396748 0.99898589 0.95664475]\n",
      "Mean of cross-validation score: 0.9455132601061715\n",
      "\n",
      "Summary of Cross-Validation Results:\n",
      "Linear Regression: Mean = 0.976, Std = 0.002\n",
      "Random Forest: Mean = 0.996, Std = 0.000\n",
      "GradientBoost: Mean = 0.783, Std = 0.008\n",
      "SVR: Mean = -0.088, Std = 0.009\n",
      "AdaBoost: Mean = 0.968, Std = 0.002\n",
      "MLP: Mean = 0.946, Std = 0.086\n"
     ]
    }
   ],
   "source": [
    "# Cross Validation\n",
    "from sklearn.model_selection import KFold, cross_val_score\n",
    "\n",
    "X = AQI.drop('AQI Value', axis=1)\n",
    "Y = AQI['AQI Value']\n",
    "\n",
    "# Define the models\n",
    "models = {\n",
    "    'Linear Regression': LinearRegression(),\n",
    "    'Random Forest': RandomForestRegressor(n_estimators=800,\n",
    "                                           max_depth=10,\n",
    "                                           min_samples_split=2,\n",
    "                                           min_samples_leaf=1,\n",
    "                                           max_features='sqrt',\n",
    "                                           bootstrap=True),\n",
    "    'GradientBoost': GradientBoostingRegressor(n_estimators=100,\n",
    "                                               learning_rate=0.01,\n",
    "                                               max_depth=3,\n",
    "                                               min_samples_split=2,\n",
    "                                               min_samples_leaf=1,\n",
    "                                               subsample=0.6,\n",
    "                                               max_features='sqrt'),\n",
    "    'SVR': SVR(),\n",
    "    'AdaBoost': AdaBoostRegressor(),\n",
    "    'MLP': MLPRegressor(hidden_layer_sizes=(100, 50), max_iter=1000, random_state=42)\n",
    "}\n",
    "\n",
    "# Define the cross-validator\n",
    "k = 10\n",
    "kf = KFold(n_splits=k, shuffle=True, random_state=42)\n",
    "\n",
    "# Perform cross-validation and store results\n",
    "results = {}\n",
    "for name, model in models.items():\n",
    "    cv_scores = cross_val_score(model, X, Y, cv=kf)\n",
    "    results[name] = cv_scores\n",
    "    print(f\"\\n{name} cross-validation scores: {cv_scores}\")\n",
    "    print(f\"Mean of cross-validation score: {np.mean(cv_scores)}\")\n",
    "\n",
    "# Print summary of results\n",
    "print(\"\\nSummary of Cross-Validation Results:\")\n",
    "for name, scores in results.items():\n",
    "    print(f\"{name}: Mean = {np.mean(scores):.3f}, Std = {np.std(scores):.3f}\")"
   ]
  },
  {
   "cell_type": "code",
   "execution_count": 89,
   "id": "0db696ea-111f-4fa7-9998-a4aabd9c3079",
   "metadata": {},
   "outputs": [
    {
     "data": {
      "image/png": "[encoded data removed]",
      "text/plain": [
       "<Figure size 1000x600 with 1 Axes>"
      ]
     },
     "metadata": {},
     "output_type": "display_data"
    }
   ],
   "source": [
    "# Comparing the models\n",
    "\n",
    "model_names = ['Linear Regression', 'Random Forest', 'Gradient Boost', 'SVR', 'AdaBoost', 'MLP']\n",
    "r2_score = [97, 99, 78, -0.08, 96, 94]\n",
    "\n",
    "data = {'Model':model_names, 'R2-score':r2_score} \n",
    "\n",
    "df = pd.DataFrame(data)\n",
    "\n",
    "plt.figure(figsize=(10, 6))  \n",
    "sns.barplot(x='Model', y='R2-score', data=df, palette='viridis')\n",
    "plt.xlabel('Model')\n",
    "plt.ylabel('R2-score')\n",
    "plt.title('Comparison of Models')\n",
    "plt.show()"
   ]
  },
  {
   "cell_type": "markdown",
   "id": "9182b13f-6471-4945-a860-9b527938848f",
   "metadata": {},
   "source": [
    "### Conclusion"
   ]
  },
  {
   "cell_type": "markdown",
   "id": "5d44f833-dbfb-475d-9352-1e13b89c624d",
   "metadata": {},
   "source": [
    "After evaluating the cross validation, the Random forest regressor model emerged as the top performers, achieving good R2 score of 0.99(99%) respectively. And Linear Regression, AdaBoost and Multilayer Perceptron(MLP) Regressor also perform very well with R2 scores of 0.97(97%), 0.96(96%), 0.94(94%) respectively, indicating strong predictive capabilities. Gradient boost gives R2 score of 0.78(78%), it is also have good performance. But Support Vector Regressor performs poorly with an R2 score of -0.08, this indicates that this model is not suitable for this dataset."
   ]
  },
  {
   "cell_type": "markdown",
   "id": "e81fab26-9515-4545-907a-1ed8f87c8544",
   "metadata": {},
   "source": [
    "So we can consider the Random forest as the best model for predicting the AQI value with this dataset."
   ]
  },
  {
   "cell_type": "markdown",
   "id": "f259217f-d018-41b6-9250-4e3c0bf1863d",
   "metadata": {},
   "source": [
    "Overall this project contributes to our understanding of AQI value prediction."
   ]
  }
 ],
 "metadata": {
  "kernelspec": {
   "display_name": "Python 3 (ipykernel)",
   "language": "python",
   "name": "python3"
  },
  "language_info": {
   "codemirror_mode": {
    "name": "ipython",
    "version": 3
   },
   "file_extension": ".py",
   "mimetype": "text/x-python",
   "name": "python",
   "nbconvert_exporter": "python",
   "pygments_lexer": "ipython3",
   "version": "3.11.4"
  }
 },
 "nbformat": 4,
 "nbformat_minor": 5
}
